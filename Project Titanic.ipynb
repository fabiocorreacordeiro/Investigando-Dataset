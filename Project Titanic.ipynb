{
 "cells": [
  {
   "cell_type": "markdown",
   "metadata": {
    "collapsed": true
   },
   "source": [
    "** UDACITY **\n",
    "\n",
    "** Nabodegree Analista de Dados **\n",
    "\n",
    "### Projeto: Investigate a Dataset\n",
    "\n",
    "# Analisando os dados do TITANIC\n",
    "\n",
    "**por Fábio Corrêa Cordeiro**"
   ]
  },
  {
   "cell_type": "markdown",
   "metadata": {},
   "source": [
    "Este projeto tem como objetivo analisar a base de dados titanic_data.csv que contém informações de 891 passageiros do Titanic. A base foi obtida no site [Kaggle](https://www.kaggle.com/c/titanic/data). Neste trabalho queremos avaliar se o princípio de que mulheres e crianças têm preferências nos salvamentos de um naufrágio foi respeitado no caso do famoso naufrágio do Titanic."
   ]
  },
  {
   "cell_type": "markdown",
   "metadata": {},
   "source": [
    "## Pergunta:\n",
    "A pergunta que será respondida nessa análise é se a prática de salvar mulheres e crianças primeiro foi respeitada no naufrágio do Titanic. Para tal iremos verificar se a quantidade de mulheres e crianças que sobreviverem ao naufrágio é estatisticamente mais maior do que de homens. "
   ]
  },
  {
   "cell_type": "markdown",
   "metadata": {},
   "source": [
    "## Etapa 1 - Aquisição dos dados\n",
    "Nessa estapa é importado os dados do arquivo titanic_data.csv"
   ]
  },
  {
   "cell_type": "code",
   "execution_count": 160,
   "metadata": {
    "scrolled": true
   },
   "outputs": [
    {
     "data": {
      "text/html": [
       "<div>\n",
       "<style>\n",
       "    .dataframe thead tr:only-child th {\n",
       "        text-align: right;\n",
       "    }\n",
       "\n",
       "    .dataframe thead th {\n",
       "        text-align: left;\n",
       "    }\n",
       "\n",
       "    .dataframe tbody tr th {\n",
       "        vertical-align: top;\n",
       "    }\n",
       "</style>\n",
       "<table border=\"1\" class=\"dataframe\">\n",
       "  <thead>\n",
       "    <tr style=\"text-align: right;\">\n",
       "      <th></th>\n",
       "      <th>PassengerId</th>\n",
       "      <th>Survived</th>\n",
       "      <th>Pclass</th>\n",
       "      <th>Name</th>\n",
       "      <th>Sex</th>\n",
       "      <th>Age</th>\n",
       "      <th>SibSp</th>\n",
       "      <th>Parch</th>\n",
       "      <th>Ticket</th>\n",
       "      <th>Fare</th>\n",
       "      <th>Cabin</th>\n",
       "      <th>Embarked</th>\n",
       "    </tr>\n",
       "  </thead>\n",
       "  <tbody>\n",
       "    <tr>\n",
       "      <th>0</th>\n",
       "      <td>1</td>\n",
       "      <td>0</td>\n",
       "      <td>3</td>\n",
       "      <td>Braund, Mr. Owen Harris</td>\n",
       "      <td>male</td>\n",
       "      <td>22.0</td>\n",
       "      <td>1</td>\n",
       "      <td>0</td>\n",
       "      <td>A/5 21171</td>\n",
       "      <td>7.2500</td>\n",
       "      <td>NaN</td>\n",
       "      <td>S</td>\n",
       "    </tr>\n",
       "    <tr>\n",
       "      <th>1</th>\n",
       "      <td>2</td>\n",
       "      <td>1</td>\n",
       "      <td>1</td>\n",
       "      <td>Cumings, Mrs. John Bradley (Florence Briggs Th...</td>\n",
       "      <td>female</td>\n",
       "      <td>38.0</td>\n",
       "      <td>1</td>\n",
       "      <td>0</td>\n",
       "      <td>PC 17599</td>\n",
       "      <td>71.2833</td>\n",
       "      <td>C85</td>\n",
       "      <td>C</td>\n",
       "    </tr>\n",
       "    <tr>\n",
       "      <th>2</th>\n",
       "      <td>3</td>\n",
       "      <td>1</td>\n",
       "      <td>3</td>\n",
       "      <td>Heikkinen, Miss. Laina</td>\n",
       "      <td>female</td>\n",
       "      <td>26.0</td>\n",
       "      <td>0</td>\n",
       "      <td>0</td>\n",
       "      <td>STON/O2. 3101282</td>\n",
       "      <td>7.9250</td>\n",
       "      <td>NaN</td>\n",
       "      <td>S</td>\n",
       "    </tr>\n",
       "    <tr>\n",
       "      <th>3</th>\n",
       "      <td>4</td>\n",
       "      <td>1</td>\n",
       "      <td>1</td>\n",
       "      <td>Futrelle, Mrs. Jacques Heath (Lily May Peel)</td>\n",
       "      <td>female</td>\n",
       "      <td>35.0</td>\n",
       "      <td>1</td>\n",
       "      <td>0</td>\n",
       "      <td>113803</td>\n",
       "      <td>53.1000</td>\n",
       "      <td>C123</td>\n",
       "      <td>S</td>\n",
       "    </tr>\n",
       "    <tr>\n",
       "      <th>4</th>\n",
       "      <td>5</td>\n",
       "      <td>0</td>\n",
       "      <td>3</td>\n",
       "      <td>Allen, Mr. William Henry</td>\n",
       "      <td>male</td>\n",
       "      <td>35.0</td>\n",
       "      <td>0</td>\n",
       "      <td>0</td>\n",
       "      <td>373450</td>\n",
       "      <td>8.0500</td>\n",
       "      <td>NaN</td>\n",
       "      <td>S</td>\n",
       "    </tr>\n",
       "  </tbody>\n",
       "</table>\n",
       "</div>"
      ],
      "text/plain": [
       "   PassengerId  Survived  Pclass  \\\n",
       "0            1         0       3   \n",
       "1            2         1       1   \n",
       "2            3         1       3   \n",
       "3            4         1       1   \n",
       "4            5         0       3   \n",
       "\n",
       "                                                Name     Sex   Age  SibSp  \\\n",
       "0                            Braund, Mr. Owen Harris    male  22.0      1   \n",
       "1  Cumings, Mrs. John Bradley (Florence Briggs Th...  female  38.0      1   \n",
       "2                             Heikkinen, Miss. Laina  female  26.0      0   \n",
       "3       Futrelle, Mrs. Jacques Heath (Lily May Peel)  female  35.0      1   \n",
       "4                           Allen, Mr. William Henry    male  35.0      0   \n",
       "\n",
       "   Parch            Ticket     Fare Cabin Embarked  \n",
       "0      0         A/5 21171   7.2500   NaN        S  \n",
       "1      0          PC 17599  71.2833   C85        C  \n",
       "2      0  STON/O2. 3101282   7.9250   NaN        S  \n",
       "3      0            113803  53.1000  C123        S  \n",
       "4      0            373450   8.0500   NaN        S  "
      ]
     },
     "execution_count": 160,
     "metadata": {},
     "output_type": "execute_result"
    }
   ],
   "source": [
    "import numpy as np\n",
    "import pandas as pd\n",
    "import unicodecsv\n",
    "import matplotlib.pyplot as plt\n",
    "from scipy import stats\n",
    "\n",
    "\"\"\"\" Reading data \"\"\"\n",
    "titanic_data_csv = 'titanic_data.csv'\n",
    "titanic_data_bruto = pd.read_csv(titanic_data_csv)\n",
    "titanic_data_bruto.head()"
   ]
  },
  {
   "cell_type": "markdown",
   "metadata": {},
   "source": [
    "## Etapa 2 - Limpeza da base de dados\n",
    "Após verificar o arquivo titanic_data.csv encontramos os seguintes erros que deverão ser consertados antes de iniciar a análise de dados propriamente dita:"
   ]
  },
  {
   "cell_type": "markdown",
   "metadata": {},
   "source": [
    "* Como os dados das colunas Ticket, Fare, Cabin e Embarked não são necessários para responder a pergunta levantada, iremos excluí-los da nossa lista titanic_data."
   ]
  },
  {
   "cell_type": "code",
   "execution_count": 161,
   "metadata": {
    "collapsed": true
   },
   "outputs": [],
   "source": [
    "\"\"\"Selecting only relevant coluns \"\"\"\n",
    "titanic_data = titanic_data_bruto[['PassengerId','Survived','Pclass','Name','Sex','Age','SibSp','Parch']]"
   ]
  },
  {
   "cell_type": "markdown",
   "metadata": {},
   "source": [
    "Agora vamos analisar quantos se todos os passageiros tem informações sobre idade e gênero."
   ]
  },
  {
   "cell_type": "code",
   "execution_count": 162,
   "metadata": {},
   "outputs": [
    {
     "name": "stdout",
     "output_type": "stream",
     "text": [
      "Total:  891\n",
      "Passageiros com informação de idade:  714\n",
      "Passageiros com informação de gênero:  891\n"
     ]
    }
   ],
   "source": [
    "\"\"\" Printin information about 'Sex' and 'Age'. \"\"\"\n",
    "print 'Total: ',len(titanic_data)\n",
    "print 'Passageiros com informação de idade: ', len(titanic_data[titanic_data['Age'] > 0])\n",
    "print 'Passageiros com informação de gênero: ', len(titanic_data[(titanic_data['Sex'] == 'male')|\n",
    "                                                                 (titanic_data['Sex'] == 'female')])"
   ]
  },
  {
   "cell_type": "markdown",
   "metadata": {},
   "source": [
    "* Iremos duplicar as bases de dados. A base para análise entre homens e mulheres terá 891 passageiros, na base para a comparação entre adultos e crianças serão mantidas apenas as 714 linhas que possuem informações sobre idade."
   ]
  },
  {
   "cell_type": "code",
   "execution_count": 163,
   "metadata": {
    "collapsed": true
   },
   "outputs": [],
   "source": [
    "\"\"\" Duplicate the data set, one to 'Age' comparison and other to 'Sex'. \"\"\"\n",
    "titanic_data_age = titanic_data[titanic_data['Age'] > 0]\n",
    "titanic_data_sex = titanic_data[(titanic_data['Sex'] == 'male')|(titanic_data['Sex'] == 'female')]"
   ]
  },
  {
   "cell_type": "markdown",
   "metadata": {},
   "source": [
    "Como iremos analisar a diferença entre crianças e adultos, iremos criar uma categoria classificando cada passageiro. Nesse caso iremos considerar crianças todos aqueles indivíduos com 14 anos ou menos."
   ]
  },
  {
   "cell_type": "code",
   "execution_count": 164,
   "metadata": {},
   "outputs": [
    {
     "name": "stderr",
     "output_type": "stream",
     "text": [
      "C:\\Users\\fabio\\Anaconda3\\envs\\machinelearn\\lib\\site-packages\\ipykernel_launcher.py:2: SettingWithCopyWarning: \n",
      "A value is trying to be set on a copy of a slice from a DataFrame.\n",
      "Try using .loc[row_indexer,col_indexer] = value instead\n",
      "\n",
      "See the caveats in the documentation: http://pandas.pydata.org/pandas-docs/stable/indexing.html#indexing-view-versus-copy\n",
      "  \n"
     ]
    },
    {
     "data": {
      "text/html": [
       "<div>\n",
       "<style>\n",
       "    .dataframe thead tr:only-child th {\n",
       "        text-align: right;\n",
       "    }\n",
       "\n",
       "    .dataframe thead th {\n",
       "        text-align: left;\n",
       "    }\n",
       "\n",
       "    .dataframe tbody tr th {\n",
       "        vertical-align: top;\n",
       "    }\n",
       "</style>\n",
       "<table border=\"1\" class=\"dataframe\">\n",
       "  <thead>\n",
       "    <tr style=\"text-align: right;\">\n",
       "      <th></th>\n",
       "      <th>PassengerId</th>\n",
       "      <th>Survived</th>\n",
       "      <th>Pclass</th>\n",
       "      <th>Name</th>\n",
       "      <th>Sex</th>\n",
       "      <th>Age</th>\n",
       "      <th>SibSp</th>\n",
       "      <th>Parch</th>\n",
       "      <th>grupo_idade</th>\n",
       "    </tr>\n",
       "  </thead>\n",
       "  <tbody>\n",
       "    <tr>\n",
       "      <th>0</th>\n",
       "      <td>1</td>\n",
       "      <td>0</td>\n",
       "      <td>3</td>\n",
       "      <td>Braund, Mr. Owen Harris</td>\n",
       "      <td>male</td>\n",
       "      <td>22.0</td>\n",
       "      <td>1</td>\n",
       "      <td>0</td>\n",
       "      <td>adulto</td>\n",
       "    </tr>\n",
       "    <tr>\n",
       "      <th>1</th>\n",
       "      <td>2</td>\n",
       "      <td>1</td>\n",
       "      <td>1</td>\n",
       "      <td>Cumings, Mrs. John Bradley (Florence Briggs Th...</td>\n",
       "      <td>female</td>\n",
       "      <td>38.0</td>\n",
       "      <td>1</td>\n",
       "      <td>0</td>\n",
       "      <td>adulto</td>\n",
       "    </tr>\n",
       "    <tr>\n",
       "      <th>2</th>\n",
       "      <td>3</td>\n",
       "      <td>1</td>\n",
       "      <td>3</td>\n",
       "      <td>Heikkinen, Miss. Laina</td>\n",
       "      <td>female</td>\n",
       "      <td>26.0</td>\n",
       "      <td>0</td>\n",
       "      <td>0</td>\n",
       "      <td>adulto</td>\n",
       "    </tr>\n",
       "    <tr>\n",
       "      <th>3</th>\n",
       "      <td>4</td>\n",
       "      <td>1</td>\n",
       "      <td>1</td>\n",
       "      <td>Futrelle, Mrs. Jacques Heath (Lily May Peel)</td>\n",
       "      <td>female</td>\n",
       "      <td>35.0</td>\n",
       "      <td>1</td>\n",
       "      <td>0</td>\n",
       "      <td>adulto</td>\n",
       "    </tr>\n",
       "    <tr>\n",
       "      <th>4</th>\n",
       "      <td>5</td>\n",
       "      <td>0</td>\n",
       "      <td>3</td>\n",
       "      <td>Allen, Mr. William Henry</td>\n",
       "      <td>male</td>\n",
       "      <td>35.0</td>\n",
       "      <td>0</td>\n",
       "      <td>0</td>\n",
       "      <td>adulto</td>\n",
       "    </tr>\n",
       "  </tbody>\n",
       "</table>\n",
       "</div>"
      ],
      "text/plain": [
       "   PassengerId  Survived  Pclass  \\\n",
       "0            1         0       3   \n",
       "1            2         1       1   \n",
       "2            3         1       3   \n",
       "3            4         1       1   \n",
       "4            5         0       3   \n",
       "\n",
       "                                                Name     Sex   Age  SibSp  \\\n",
       "0                            Braund, Mr. Owen Harris    male  22.0      1   \n",
       "1  Cumings, Mrs. John Bradley (Florence Briggs Th...  female  38.0      1   \n",
       "2                             Heikkinen, Miss. Laina  female  26.0      0   \n",
       "3       Futrelle, Mrs. Jacques Heath (Lily May Peel)  female  35.0      1   \n",
       "4                           Allen, Mr. William Henry    male  35.0      0   \n",
       "\n",
       "   Parch grupo_idade  \n",
       "0      0      adulto  \n",
       "1      0      adulto  \n",
       "2      0      adulto  \n",
       "3      0      adulto  \n",
       "4      0      adulto  "
      ]
     },
     "execution_count": 164,
     "metadata": {},
     "output_type": "execute_result"
    }
   ],
   "source": [
    "\"\"\" Adding 'grupo_idade' column on 'titanic_data_age'. \"\"\"\n",
    "titanic_data_age['grupo_idade'] = pd.cut(titanic_data_age['Age'], [0, 14, 150], labels=[\"crianca\", \"adulto\"])\n",
    "titanic_data_age.head()"
   ]
  },
  {
   "cell_type": "markdown",
   "metadata": {},
   "source": [
    "## Etapa 3 - Análise dos dados\n",
    "Nesta etapa iremos analisar se houve diferenças estatisticamente significantes para o número de sobreviventes Homens, Mulheres e Crianças. "
   ]
  },
  {
   "cell_type": "markdown",
   "metadata": {},
   "source": [
    "Para isso vamos criar uma função que separa qualquer uma das colunas da tabela \"titanic_data_age\" em duas e agrupa os dados pela idade. Essa função irá nos ajudar a montar os gráficos "
   ]
  },
  {
   "cell_type": "code",
   "execution_count": 165,
   "metadata": {
    "collapsed": true
   },
   "outputs": [],
   "source": [
    "def plt_graph1(feature, parameter):\n",
    "    \n",
    "    \"\"\"\"\n",
    "    For a column of titanic_data_age the plt_graph1 do:\n",
    "    - split the column in feature == parameter and feature == parameter;\n",
    "    - then group the both data by 'Age'\n",
    "    Return the column splited\n",
    "    \"\"\"\n",
    "    \n",
    "    feature_parameter = titanic_data_age[titanic_data_age[feature] == parameter]\n",
    "    feature_parameter = feature_parameter.groupby(['Age']).size()\n",
    "    feature_not_parameter = titanic_data_age[titanic_data_age[feature] != parameter]\n",
    "    feature_not_parameter = feature_not_parameter.groupby(['Age']).size()\n",
    "    return(feature_parameter, feature_not_parameter)"
   ]
  },
  {
   "cell_type": "markdown",
   "metadata": {},
   "source": [
    "Primeiramente vamos analisar como se dá a distribuição dos sobreviventes de acordo com a idade."
   ]
  },
  {
   "cell_type": "code",
   "execution_count": 166,
   "metadata": {},
   "outputs": [
    {
     "data": {
      "image/png": "[encoded data removed]",
      "text/plain": [
       "<matplotlib.figure.Figure at 0xc0c2f60>"
      ]
     },
     "metadata": {},
     "output_type": "display_data"
    }
   ],
   "source": [
    "survived, not_survived = plt_graph1('Survived', 1)\n",
    "\n",
    "plt.plot(survived, color = 'b', label = 'Sobreviventes')\n",
    "plt.plot(not_survived, color = 'y', label = 'nao Sobreviventes')\n",
    "plt.legend(bbox_to_anchor=(0.3, -0.15), loc=2, borderaxespad=0.)\n",
    "plt.title('Sobrevidentes x Idade')\n",
    "plt.xlabel('Idade (em anos)')\n",
    "plt.ylabel('Quantidade de passageiros')\n",
    "plt.show()  "
   ]
  },
  {
   "cell_type": "markdown",
   "metadata": {},
   "source": [
    "No geral houve menos sobreviventes do que fatalidades, mas com uma discrepância maior entre as idades de 15 a 30 anos"
   ]
  },
  {
   "cell_type": "markdown",
   "metadata": {},
   "source": [
    "Agora a distribuição do gênero de acordo com a idade"
   ]
  },
  {
   "cell_type": "code",
   "execution_count": 167,
   "metadata": {},
   "outputs": [
    {
     "data": {
      "image/png": "[encoded data removed]",
      "text/plain": [
       "<matplotlib.figure.Figure at 0xc2cbb38>"
      ]
     },
     "metadata": {},
     "output_type": "display_data"
    }
   ],
   "source": [
    "female, male = plt_graph1('Sex', 'female')\n",
    "\n",
    "plt.plot(female, color = 'b', label = 'Mulheres')\n",
    "plt.plot(male, color = 'y', label = 'Homens')\n",
    "plt.legend(bbox_to_anchor=(0.3, -0.15), loc=2, borderaxespad=0.)\n",
    "plt.title('Sobrevidentes x Genero')\n",
    "plt.xlabel('Idade (em anos)')\n",
    "plt.ylabel('Quantidade de passageiros')\n",
    "plt.show()"
   ]
  },
  {
   "cell_type": "markdown",
   "metadata": {},
   "source": [
    "Podemos verificar que há mais homens do que mulheres, mas essa diferença não parece ser relevantes quando olhamos apenas para os dados das crianças."
   ]
  },
  {
   "cell_type": "markdown",
   "metadata": {},
   "source": [
    "Iremos fazer duas comparações, uma entre homens e mulheres, não importando a idade, e outra entre adultos e crianças."
   ]
  },
  {
   "cell_type": "code",
   "execution_count": 168,
   "metadata": {
    "collapsed": true
   },
   "outputs": [],
   "source": [
    "def plt_graph2(data, feature):\n",
    "    \"\"\"\"\n",
    "    For one of two data (\"titanic_data_sex\" or \"titanic_data_age\"), \n",
    "    the dataframe is grouped by column \"feature\" and by \"Survived\".\n",
    "    plt_graph2 return bar_1 and bar_2:\n",
    "    bar_1 = feature[0] not survived and feature[1] not survived\n",
    "    bar_2 = feature[0] survived and feature[1] survived\n",
    "    \"\"\"\n",
    "    feature_survived = data.groupby([feature,'Survived']).size()\n",
    "    feature_p0_notsurvived = feature_survived[0]\n",
    "    feature_p0_survived= feature_survived[1]\n",
    "    feature_p1_notsurvived= feature_survived[2]\n",
    "    feature_p1_survived= feature_survived[3]\n",
    "    bar_1 = [feature_p0_notsurvived,feature_p1_notsurvived]\n",
    "    bar_2 = [feature_p0_survived,feature_p1_survived]\n",
    "    return bar_1, bar_2    "
   ]
  },
  {
   "cell_type": "markdown",
   "metadata": {
    "collapsed": true
   },
   "source": [
    "Segue abaixo a comparação entre homens e mulheres:"
   ]
  },
  {
   "cell_type": "code",
   "execution_count": 169,
   "metadata": {
    "scrolled": true
   },
   "outputs": [
    {
     "data": {
      "image/png": "[encoded data removed]",
      "text/plain": [
       "<matplotlib.figure.Figure at 0xb8476d8>"
      ]
     },
     "metadata": {},
     "output_type": "display_data"
    }
   ],
   "source": [
    "bar_1, bar_2 = plt_graph2(titanic_data_sex, 'Sex')\n",
    "x_pos = np.arange(len(bar_1))\n",
    "first_bar = plt.bar(x_pos, bar_1, 0.5, color='b', label = 'nao Sobrevivente')\n",
    "second_bar = plt.bar(x_pos, bar_2, 0.5, color='y', label = 'Sobrevivente', bottom=bar_1)\n",
    "plt.xticks(x_pos, ('Mulher','Homem'))\n",
    "plt.legend(bbox_to_anchor=(0.3, -0.15), loc=2, borderaxespad=0.)\n",
    "plt.title('Sobrevidentes x Genero')\n",
    "plt.xlabel('Genero')\n",
    "plt.ylabel('Quantidade de passageiros')\n",
    "\n",
    "plt.show()"
   ]
  },
  {
   "cell_type": "markdown",
   "metadata": {
    "collapsed": true
   },
   "source": [
    "Segue abaixo a comparação entre adultos e crianças:"
   ]
  },
  {
   "cell_type": "code",
   "execution_count": 170,
   "metadata": {},
   "outputs": [
    {
     "data": {
      "image/png": "[encoded data removed]",
      "text/plain": [
       "<matplotlib.figure.Figure at 0xa4a0080>"
      ]
     },
     "metadata": {},
     "output_type": "display_data"
    }
   ],
   "source": [
    "bar_1, bar_2 = plt_graph2(titanic_data_age, 'grupo_idade')\n",
    "x_pos = np.arange(len(bar_1))\n",
    "first_bar = plt.bar(x_pos, bar_1, 0.5, color='b', label = 'nao Sobrevivente')\n",
    "second_bar = plt.bar(x_pos, bar_2, 0.5, color='y', label = 'Sobrevivente', bottom=bar_1)\n",
    "plt.xticks(x_pos, ('Adulto','Crianca'))\n",
    "plt.legend(bbox_to_anchor=(0.3, -0.15), loc=2, borderaxespad=0.)\n",
    "plt.title('Sobrevidentes x Idade')\n",
    "plt.xlabel('Idade')\n",
    "plt.ylabel('Quantidade de passageiros')\n",
    "plt.show()"
   ]
  },
  {
   "cell_type": "markdown",
   "metadata": {},
   "source": [
    "Agora vamos fazer os testes de inferência estatística para verificar se a diferença da proporção de sobreviventes e mortos são significativas. Usaremos a distribuição t de student para compararmos as duas amostras.\n",
    "\n",
    "Primeiramente iremos anunciar a Hipótese nula (Ho) sendo que a proporção de homens sobreviventes é igual a proporção de mulheres sobreviventes. E da mesma maneira que proporção de adultos sobreviventes é igual a proporção de crianças sobreviventes. "
   ]
  },
  {
   "cell_type": "code",
   "execution_count": 171,
   "metadata": {},
   "outputs": [
    {
     "data": {
      "text/plain": [
       "Ttest_indResult(statistic=19.297816550123351, pvalue=1.4060661308802594e-69)"
      ]
     },
     "execution_count": 171,
     "metadata": {},
     "output_type": "execute_result"
    }
   ],
   "source": [
    "\"\"\" T Statistic beteween 'female survived' and 'male survived'. \"\"\"\n",
    "female_survived = titanic_data_sex[titanic_data_sex['Sex']=='female']['Survived']\n",
    "male_survived = titanic_data_sex[titanic_data_sex['Sex']=='male']['Survived']\n",
    "stats.ttest_ind(female_survived,male_survived)"
   ]
  },
  {
   "cell_type": "code",
   "execution_count": 172,
   "metadata": {},
   "outputs": [
    {
     "data": {
      "text/plain": [
       "Ttest_indResult(statistic=3.3943357223469741, pvalue=0.00072607813944173139)"
      ]
     },
     "execution_count": 172,
     "metadata": {},
     "output_type": "execute_result"
    }
   ],
   "source": [
    "\"\"\" T Statistic beteween 'child survived' and 'adult survived'. \"\"\"\n",
    "child_survived = titanic_data_age[titanic_data_age['grupo_idade']=='crianca']['Survived']\n",
    "adult_survived = titanic_data_age[titanic_data_age['grupo_idade']=='adulto']['Survived']\n",
    "stats.ttest_ind(child_survived,adult_survived)"
   ]
  },
  {
   "cell_type": "markdown",
   "metadata": {},
   "source": [
    "# Conclusão\n",
    "\n",
    "Para confirmarmos as hipóteses nulas (Ho) de que a proporção de sobreviventes foram iguais deveríamos encontrar valores de p acima de 0,05. Como os valores foram bem abaixo rejeitamos as hipóteses nula. Portanto podemos constatar, com base na amostra analisada, que a morte de mulheres e crianças foram estatiticamente inferior à de homens e adultos no naufrágio do Titanic.\n",
    "\n",
    "No entanto, como está faltando informações de aproximadamente 400 passageiros, ainda ficamos com algumas questões em abertos. Caso haja algum viés nos dados ausente (todos sejam de mulheres ou criancas que não sobreviveram, por exemplo) poderíamos chegar em conclusões diverentes da análise aqui realizada.\n",
    "\n",
    "Uma continuidade possível para essa análise é verificar se mulheres e crianças tiveram a mesma chance de sobreviver considerando o quanto elas pagaram pela passagem. Ou mesmo se mulheres e crianças que pagaram tarifas baixas tiveram mais chance de sobreviver do que homens que pagaram tarifas mais caras."
   ]
  }
 ],
 "metadata": {
  "anaconda-cloud": {},
  "celltoolbar": "Raw Cell Format",
  "kernelspec": {
   "display_name": "Python 2",
   "language": "python",
   "name": "python2"
  },
  "language_info": {
   "codemirror_mode": {
    "name": "ipython",
    "version": 2
   },
   "file_extension": ".py",
   "mimetype": "text/x-python",
   "name": "python",
   "nbconvert_exporter": "python",
   "pygments_lexer": "ipython2",
   "version": "2.7.13"
  }
 },
 "nbformat": 4,
 "nbformat_minor": 1
}
